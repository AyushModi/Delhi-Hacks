{
  "nbformat": 4,
  "nbformat_minor": 0,
  "metadata": {
    "colab": {
      "name": "Untitled0.ipynb",
      "provenance": [],
      "collapsed_sections": []
    },
    "kernelspec": {
      "name": "python3",
      "display_name": "Python 3"
    }
  },
  "cells": [
    {
      "cell_type": "code",
      "metadata": {
        "id": "dwjK7Tkj7BwH",
        "colab_type": "code",
        "colab": {
          "base_uri": "https://localhost:8080/",
          "height": 204
        },
        "outputId": "1a732912-d697-4b88-886a-431b0990bb81"
      },
      "source": [
        "import pandas as pd\n",
        "CSV_PATH = \"csv.csv\"\n",
        "\n",
        "def load_data(csv_path):\n",
        "    return pd.read_csv(csv_path)\n",
        "\n",
        "crops = load_data(CSV_PATH)\n",
        "crops.head()"
      ],
      "execution_count": null,
      "outputs": [
        {
          "output_type": "execute_result",
          "data": {
            "text/html": [
              "<div>\n",
              "<style scoped>\n",
              "    .dataframe tbody tr th:only-of-type {\n",
              "        vertical-align: middle;\n",
              "    }\n",
              "\n",
              "    .dataframe tbody tr th {\n",
              "        vertical-align: top;\n",
              "    }\n",
              "\n",
              "    .dataframe thead th {\n",
              "        text-align: right;\n",
              "    }\n",
              "</style>\n",
              "<table border=\"1\" class=\"dataframe\">\n",
              "  <thead>\n",
              "    <tr style=\"text-align: right;\">\n",
              "      <th></th>\n",
              "      <th>state</th>\n",
              "      <th>district</th>\n",
              "      <th>market</th>\n",
              "      <th>commodity</th>\n",
              "      <th>variety</th>\n",
              "      <th>arrival_date</th>\n",
              "      <th>min_price</th>\n",
              "      <th>max_price</th>\n",
              "      <th>modal_price</th>\n",
              "    </tr>\n",
              "  </thead>\n",
              "  <tbody>\n",
              "    <tr>\n",
              "      <th>0</th>\n",
              "      <td>Andaman and Nicobar</td>\n",
              "      <td>South Andaman</td>\n",
              "      <td>Port Blair</td>\n",
              "      <td>Amaranthus</td>\n",
              "      <td>Amaranthus</td>\n",
              "      <td>04/03/2019</td>\n",
              "      <td>6000</td>\n",
              "      <td>8000</td>\n",
              "      <td>7000</td>\n",
              "    </tr>\n",
              "    <tr>\n",
              "      <th>1</th>\n",
              "      <td>Andaman and Nicobar</td>\n",
              "      <td>South Andaman</td>\n",
              "      <td>Port Blair</td>\n",
              "      <td>Banana - Green</td>\n",
              "      <td>Banana - Green</td>\n",
              "      <td>04/03/2019</td>\n",
              "      <td>4500</td>\n",
              "      <td>5500</td>\n",
              "      <td>5000</td>\n",
              "    </tr>\n",
              "    <tr>\n",
              "      <th>2</th>\n",
              "      <td>Andaman and Nicobar</td>\n",
              "      <td>South Andaman</td>\n",
              "      <td>Port Blair</td>\n",
              "      <td>Bhindi(Ladies Finger)</td>\n",
              "      <td>Bhindi</td>\n",
              "      <td>04/03/2019</td>\n",
              "      <td>6000</td>\n",
              "      <td>8000</td>\n",
              "      <td>7000</td>\n",
              "    </tr>\n",
              "    <tr>\n",
              "      <th>3</th>\n",
              "      <td>Andaman and Nicobar</td>\n",
              "      <td>South Andaman</td>\n",
              "      <td>Port Blair</td>\n",
              "      <td>Bitter gourd</td>\n",
              "      <td>Other</td>\n",
              "      <td>04/03/2019</td>\n",
              "      <td>6000</td>\n",
              "      <td>8000</td>\n",
              "      <td>7000</td>\n",
              "    </tr>\n",
              "    <tr>\n",
              "      <th>4</th>\n",
              "      <td>Andaman and Nicobar</td>\n",
              "      <td>South Andaman</td>\n",
              "      <td>Port Blair</td>\n",
              "      <td>Black pepper</td>\n",
              "      <td>Other</td>\n",
              "      <td>04/03/2019</td>\n",
              "      <td>110000</td>\n",
              "      <td>130000</td>\n",
              "      <td>120000</td>\n",
              "    </tr>\n",
              "  </tbody>\n",
              "</table>\n",
              "</div>"
            ],
            "text/plain": [
              "                 state       district  ... max_price modal_price\n",
              "0  Andaman and Nicobar  South Andaman  ...      8000        7000\n",
              "1  Andaman and Nicobar  South Andaman  ...      5500        5000\n",
              "2  Andaman and Nicobar  South Andaman  ...      8000        7000\n",
              "3  Andaman and Nicobar  South Andaman  ...      8000        7000\n",
              "4  Andaman and Nicobar  South Andaman  ...    130000      120000\n",
              "\n",
              "[5 rows x 9 columns]"
            ]
          },
          "metadata": {
            "tags": []
          },
          "execution_count": 278
        }
      ]
    },
    {
      "cell_type": "code",
      "metadata": {
        "id": "224g4FnW9HHo",
        "colab_type": "code",
        "colab": {}
      },
      "source": [
        "crops.drop(\"arrival_date\",axis=1,inplace=True)"
      ],
      "execution_count": null,
      "outputs": []
    },
    {
      "cell_type": "code",
      "metadata": {
        "id": "ve4O1u0u9e_M",
        "colab_type": "code",
        "colab": {
          "base_uri": "https://localhost:8080/",
          "height": 170
        },
        "outputId": "8d79db64-54ea-42cd-f2e4-0ff698915378"
      },
      "source": [
        "crops.isna().sum()#No missing data"
      ],
      "execution_count": null,
      "outputs": [
        {
          "output_type": "execute_result",
          "data": {
            "text/plain": [
              "state          0\n",
              "district       0\n",
              "market         0\n",
              "commodity      0\n",
              "variety        0\n",
              "min_price      0\n",
              "max_price      0\n",
              "modal_price    0\n",
              "dtype: int64"
            ]
          },
          "metadata": {
            "tags": []
          },
          "execution_count": 265
        }
      ]
    },
    {
      "cell_type": "code",
      "metadata": {
        "id": "1uW2iYG29oEU",
        "colab_type": "code",
        "colab": {
          "base_uri": "https://localhost:8080/",
          "height": 1000
        },
        "outputId": "f252be50-3653-4136-bb0d-0f0d5013cb87"
      },
      "source": [
        "for label, cols in crops.items():\n",
        "    if pd.api.types.is_string_dtype(cols):\n",
        "        crops[label] = cols.astype(\"category\").cat.as_ordered()\n",
        "        crops[label] = crops[label].cat.codes"
      ],
      "execution_count": null,
      "outputs": [
        {
          "output_type": "stream",
          "text": [
            "0       Andaman and Nicobar\n",
            "1       Andaman and Nicobar\n",
            "2       Andaman and Nicobar\n",
            "3       Andaman and Nicobar\n",
            "4       Andaman and Nicobar\n",
            "               ...         \n",
            "2233            West Bengal\n",
            "2234            West Bengal\n",
            "2235            West Bengal\n",
            "2236            West Bengal\n",
            "2237            West Bengal\n",
            "Name: state, Length: 2238, dtype: object\n",
            "0        South Andaman\n",
            "1        South Andaman\n",
            "2        South Andaman\n",
            "3        South Andaman\n",
            "4        South Andaman\n",
            "             ...      \n",
            "2233    Uttar Dinajpur\n",
            "2234    Uttar Dinajpur\n",
            "2235    Uttar Dinajpur\n",
            "2236    Uttar Dinajpur\n",
            "2237    Uttar Dinajpur\n",
            "Name: district, Length: 2238, dtype: object\n",
            "0       Port Blair\n",
            "1       Port Blair\n",
            "2       Port Blair\n",
            "3       Port Blair\n",
            "4       Port Blair\n",
            "           ...    \n",
            "2233      Islampur\n",
            "2234      Islampur\n",
            "2235       Raiganj\n",
            "2236       Raiganj\n",
            "2237       Raiganj\n",
            "Name: market, Length: 2238, dtype: object\n",
            "0                  Amaranthus\n",
            "1              Banana - Green\n",
            "2       Bhindi(Ladies Finger)\n",
            "3                Bitter gourd\n",
            "4                Black pepper\n",
            "                ...          \n",
            "2233                   Potato\n",
            "2234                     Rice\n",
            "2235                     Jute\n",
            "2236                     Rice\n",
            "2237                    Wheat\n",
            "Name: commodity, Length: 2238, dtype: object\n",
            "0           Amaranthus\n",
            "1       Banana - Green\n",
            "2               Bhindi\n",
            "3                Other\n",
            "4                Other\n",
            "             ...      \n",
            "2233             Jyoti\n",
            "2234             Other\n",
            "2235              TD-5\n",
            "2236             Other\n",
            "2237            Kalyan\n",
            "Name: variety, Length: 2238, dtype: object\n",
            "0       04/03/2019\n",
            "1       04/03/2019\n",
            "2       04/03/2019\n",
            "3       04/03/2019\n",
            "4       04/03/2019\n",
            "           ...    \n",
            "2233    04/03/2019\n",
            "2234    04/03/2019\n",
            "2235    04/03/2019\n",
            "2236    04/03/2019\n",
            "2237    04/03/2019\n",
            "Name: arrival_date, Length: 2238, dtype: object\n"
          ],
          "name": "stdout"
        }
      ]
    },
    {
      "cell_type": "code",
      "metadata": {
        "id": "ygoSWwRX9t10",
        "colab_type": "code",
        "colab": {
          "base_uri": "https://localhost:8080/",
          "height": 289
        },
        "outputId": "aea61a95-9110-4b55-ba1d-7b22de52c7f5"
      },
      "source": [
        "crops.info()#all categorical data now"
      ],
      "execution_count": null,
      "outputs": [
        {
          "output_type": "stream",
          "text": [
            "<class 'pandas.core.frame.DataFrame'>\n",
            "RangeIndex: 2238 entries, 0 to 2237\n",
            "Data columns (total 9 columns):\n",
            " #   Column        Non-Null Count  Dtype   \n",
            "---  ------        --------------  -----   \n",
            " 0   state         2238 non-null   category\n",
            " 1   district      2238 non-null   category\n",
            " 2   market        2238 non-null   category\n",
            " 3   commodity     2238 non-null   category\n",
            " 4   variety       2238 non-null   category\n",
            " 5   arrival_date  2238 non-null   category\n",
            " 6   min_price     2238 non-null   int64   \n",
            " 7   max_price     2238 non-null   int64   \n",
            " 8   modal_price   2238 non-null   int64   \n",
            "dtypes: category(6), int64(3)\n",
            "memory usage: 112.8 KB\n"
          ],
          "name": "stdout"
        }
      ]
    },
    {
      "cell_type": "code",
      "metadata": {
        "id": "vRRUiSoXGP1B",
        "colab_type": "code",
        "colab": {
          "base_uri": "https://localhost:8080/",
          "height": 204
        },
        "outputId": "244ff12c-7d1c-4591-c85c-392651100c4b"
      },
      "source": [
        "crops.head()"
      ],
      "execution_count": null,
      "outputs": [
        {
          "output_type": "execute_result",
          "data": {
            "text/html": [
              "<div>\n",
              "<style scoped>\n",
              "    .dataframe tbody tr th:only-of-type {\n",
              "        vertical-align: middle;\n",
              "    }\n",
              "\n",
              "    .dataframe tbody tr th {\n",
              "        vertical-align: top;\n",
              "    }\n",
              "\n",
              "    .dataframe thead th {\n",
              "        text-align: right;\n",
              "    }\n",
              "</style>\n",
              "<table border=\"1\" class=\"dataframe\">\n",
              "  <thead>\n",
              "    <tr style=\"text-align: right;\">\n",
              "      <th></th>\n",
              "      <th>state</th>\n",
              "      <th>district</th>\n",
              "      <th>market</th>\n",
              "      <th>commodity</th>\n",
              "      <th>variety</th>\n",
              "      <th>arrival_date</th>\n",
              "      <th>min_price</th>\n",
              "      <th>max_price</th>\n",
              "      <th>modal_price</th>\n",
              "    </tr>\n",
              "  </thead>\n",
              "  <tbody>\n",
              "    <tr>\n",
              "      <th>0</th>\n",
              "      <td>Andaman and Nicobar</td>\n",
              "      <td>South Andaman</td>\n",
              "      <td>Port Blair</td>\n",
              "      <td>Amaranthus</td>\n",
              "      <td>Amaranthus</td>\n",
              "      <td>04/03/2019</td>\n",
              "      <td>6000</td>\n",
              "      <td>8000</td>\n",
              "      <td>7000</td>\n",
              "    </tr>\n",
              "    <tr>\n",
              "      <th>1</th>\n",
              "      <td>Andaman and Nicobar</td>\n",
              "      <td>South Andaman</td>\n",
              "      <td>Port Blair</td>\n",
              "      <td>Banana - Green</td>\n",
              "      <td>Banana - Green</td>\n",
              "      <td>04/03/2019</td>\n",
              "      <td>4500</td>\n",
              "      <td>5500</td>\n",
              "      <td>5000</td>\n",
              "    </tr>\n",
              "    <tr>\n",
              "      <th>2</th>\n",
              "      <td>Andaman and Nicobar</td>\n",
              "      <td>South Andaman</td>\n",
              "      <td>Port Blair</td>\n",
              "      <td>Bhindi(Ladies Finger)</td>\n",
              "      <td>Bhindi</td>\n",
              "      <td>04/03/2019</td>\n",
              "      <td>6000</td>\n",
              "      <td>8000</td>\n",
              "      <td>7000</td>\n",
              "    </tr>\n",
              "    <tr>\n",
              "      <th>3</th>\n",
              "      <td>Andaman and Nicobar</td>\n",
              "      <td>South Andaman</td>\n",
              "      <td>Port Blair</td>\n",
              "      <td>Bitter gourd</td>\n",
              "      <td>Other</td>\n",
              "      <td>04/03/2019</td>\n",
              "      <td>6000</td>\n",
              "      <td>8000</td>\n",
              "      <td>7000</td>\n",
              "    </tr>\n",
              "    <tr>\n",
              "      <th>4</th>\n",
              "      <td>Andaman and Nicobar</td>\n",
              "      <td>South Andaman</td>\n",
              "      <td>Port Blair</td>\n",
              "      <td>Black pepper</td>\n",
              "      <td>Other</td>\n",
              "      <td>04/03/2019</td>\n",
              "      <td>110000</td>\n",
              "      <td>130000</td>\n",
              "      <td>120000</td>\n",
              "    </tr>\n",
              "  </tbody>\n",
              "</table>\n",
              "</div>"
            ],
            "text/plain": [
              "                 state       district  ... max_price modal_price\n",
              "0  Andaman and Nicobar  South Andaman  ...      8000        7000\n",
              "1  Andaman and Nicobar  South Andaman  ...      5500        5000\n",
              "2  Andaman and Nicobar  South Andaman  ...      8000        7000\n",
              "3  Andaman and Nicobar  South Andaman  ...      8000        7000\n",
              "4  Andaman and Nicobar  South Andaman  ...    130000      120000\n",
              "\n",
              "[5 rows x 9 columns]"
            ]
          },
          "metadata": {
            "tags": []
          },
          "execution_count": 273
        }
      ]
    },
    {
      "cell_type": "code",
      "metadata": {
        "id": "Bz18sp1C9yO0",
        "colab_type": "code",
        "colab": {}
      },
      "source": [
        ""
      ],
      "execution_count": null,
      "outputs": []
    },
    {
      "cell_type": "code",
      "metadata": {
        "id": "8_YIzc5e-dyt",
        "colab_type": "code",
        "colab": {
          "base_uri": "https://localhost:8080/",
          "height": 204
        },
        "outputId": "19573a49-7aa8-4e4a-b631-d1f3571a1fa9"
      },
      "source": [
        "crops.head()"
      ],
      "execution_count": null,
      "outputs": [
        {
          "output_type": "execute_result",
          "data": {
            "text/html": [
              "<div>\n",
              "<style scoped>\n",
              "    .dataframe tbody tr th:only-of-type {\n",
              "        vertical-align: middle;\n",
              "    }\n",
              "\n",
              "    .dataframe tbody tr th {\n",
              "        vertical-align: top;\n",
              "    }\n",
              "\n",
              "    .dataframe thead th {\n",
              "        text-align: right;\n",
              "    }\n",
              "</style>\n",
              "<table border=\"1\" class=\"dataframe\">\n",
              "  <thead>\n",
              "    <tr style=\"text-align: right;\">\n",
              "      <th></th>\n",
              "      <th>state</th>\n",
              "      <th>district</th>\n",
              "      <th>market</th>\n",
              "      <th>commodity</th>\n",
              "      <th>variety</th>\n",
              "      <th>min_price</th>\n",
              "      <th>max_price</th>\n",
              "      <th>modal_price</th>\n",
              "    </tr>\n",
              "  </thead>\n",
              "  <tbody>\n",
              "    <tr>\n",
              "      <th>0</th>\n",
              "      <td>0</td>\n",
              "      <td>153</td>\n",
              "      <td>246</td>\n",
              "      <td>0</td>\n",
              "      <td>17</td>\n",
              "      <td>6000</td>\n",
              "      <td>8000</td>\n",
              "      <td>7000</td>\n",
              "    </tr>\n",
              "    <tr>\n",
              "      <th>1</th>\n",
              "      <td>0</td>\n",
              "      <td>153</td>\n",
              "      <td>246</td>\n",
              "      <td>10</td>\n",
              "      <td>30</td>\n",
              "      <td>4500</td>\n",
              "      <td>5500</td>\n",
              "      <td>5000</td>\n",
              "    </tr>\n",
              "    <tr>\n",
              "      <th>2</th>\n",
              "      <td>0</td>\n",
              "      <td>153</td>\n",
              "      <td>246</td>\n",
              "      <td>18</td>\n",
              "      <td>39</td>\n",
              "      <td>6000</td>\n",
              "      <td>8000</td>\n",
              "      <td>7000</td>\n",
              "    </tr>\n",
              "    <tr>\n",
              "      <th>3</th>\n",
              "      <td>0</td>\n",
              "      <td>153</td>\n",
              "      <td>246</td>\n",
              "      <td>19</td>\n",
              "      <td>148</td>\n",
              "      <td>6000</td>\n",
              "      <td>8000</td>\n",
              "      <td>7000</td>\n",
              "    </tr>\n",
              "    <tr>\n",
              "      <th>4</th>\n",
              "      <td>0</td>\n",
              "      <td>153</td>\n",
              "      <td>246</td>\n",
              "      <td>22</td>\n",
              "      <td>148</td>\n",
              "      <td>110000</td>\n",
              "      <td>130000</td>\n",
              "      <td>120000</td>\n",
              "    </tr>\n",
              "  </tbody>\n",
              "</table>\n",
              "</div>"
            ],
            "text/plain": [
              "   state  district  market  ...  min_price  max_price  modal_price\n",
              "0      0       153     246  ...       6000       8000         7000\n",
              "1      0       153     246  ...       4500       5500         5000\n",
              "2      0       153     246  ...       6000       8000         7000\n",
              "3      0       153     246  ...       6000       8000         7000\n",
              "4      0       153     246  ...     110000     130000       120000\n",
              "\n",
              "[5 rows x 8 columns]"
            ]
          },
          "metadata": {
            "tags": []
          },
          "execution_count": 269
        }
      ]
    },
    {
      "cell_type": "code",
      "metadata": {
        "id": "XKV77ZtY-gYT",
        "colab_type": "code",
        "colab": {
          "base_uri": "https://localhost:8080/",
          "height": 34
        },
        "outputId": "26adbe66-955c-4f31-f952-64ba30219030"
      },
      "source": [
        "crops.market.cat."
      ],
      "execution_count": null,
      "outputs": [
        {
          "output_type": "execute_result",
          "data": {
            "text/plain": [
              "<pandas.core.arrays.categorical.CategoricalAccessor object at 0x7f6a7a75c9e8>"
            ]
          },
          "metadata": {
            "tags": []
          },
          "execution_count": 277
        }
      ]
    },
    {
      "cell_type": "code",
      "metadata": {
        "id": "DeKkEScd-j-D",
        "colab_type": "code",
        "colab": {
          "base_uri": "https://localhost:8080/",
          "height": 136
        },
        "outputId": "e211754a-d0d4-4526-8f01-334e43fba374"
      },
      "source": [
        "crops.commodity.cat.categories"
      ],
      "execution_count": null,
      "outputs": [
        {
          "output_type": "execute_result",
          "data": {
            "text/plain": [
              "Index(['Amaranthus', 'Amla(Nelli Kai)', 'Amphophalus', 'Apple',\n",
              "       'Arecanut(Betelnut/Supari)', 'Arhar (Tur/Red Gram)(Whole)',\n",
              "       'Arhar Dal(Tur Dal)', 'Ashgourd', 'Bajra(Pearl Millet/Cumbu)', 'Banana',\n",
              "       ...\n",
              "       'Tobacco', 'Tomato', 'Turmeric', 'Turmeric (raw)', 'Turnip',\n",
              "       'Water Melon', 'Wheat', 'Wheat Atta', 'White Pumpkin', 'Wood'],\n",
              "      dtype='object', length=156)"
            ]
          },
          "metadata": {
            "tags": []
          },
          "execution_count": 17
        }
      ]
    },
    {
      "cell_type": "code",
      "metadata": {
        "id": "_dfLxlYq-oKE",
        "colab_type": "code",
        "colab": {
          "base_uri": "https://localhost:8080/",
          "height": 119
        },
        "outputId": "21287704-8447-4325-a38f-22ce1ccb1de5"
      },
      "source": [
        "crops.variety.cat.categories"
      ],
      "execution_count": null,
      "outputs": [
        {
          "output_type": "execute_result",
          "data": {
            "text/plain": [
              "Index([' Subabul', '(Red Nanital)', '1001', '1009 Kar', '1121', '147 Average',\n",
              "       '1st Sort', '2nd Sort', '777 New Ind', '95/5',\n",
              "       ...\n",
              "       'Water Melon', 'Wheat Atta', 'White', 'White Ponni', 'White Pumpkin',\n",
              "       'Whole', 'Yellow', 'Yellow (Black)', 'api', 'other'],\n",
              "      dtype='object', length=218)"
            ]
          },
          "metadata": {
            "tags": []
          },
          "execution_count": 18
        }
      ]
    },
    {
      "cell_type": "code",
      "metadata": {
        "id": "PnvfsiZ__G69",
        "colab_type": "code",
        "colab": {
          "base_uri": "https://localhost:8080/",
          "height": 255
        },
        "outputId": "b4619e40-1e65-42c7-90d4-8cf555e27889"
      },
      "source": [
        "#calculate min prices\n",
        "crops_min = crops.drop(\"max_price\",axis=1)\n",
        "crops_min = crops.drop(\"modal_price\",axis=1)\n",
        "crops_min.info()"
      ],
      "execution_count": null,
      "outputs": [
        {
          "output_type": "stream",
          "text": [
            "<class 'pandas.core.frame.DataFrame'>\n",
            "RangeIndex: 2238 entries, 0 to 2237\n",
            "Data columns (total 7 columns):\n",
            " #   Column     Non-Null Count  Dtype\n",
            "---  ------     --------------  -----\n",
            " 0   state      2238 non-null   int8 \n",
            " 1   district   2238 non-null   int16\n",
            " 2   market     2238 non-null   int16\n",
            " 3   commodity  2238 non-null   int16\n",
            " 4   variety    2238 non-null   int16\n",
            " 5   min_price  2238 non-null   int64\n",
            " 6   max_price  2238 non-null   int64\n",
            "dtypes: int16(4), int64(2), int8(1)\n",
            "memory usage: 54.8 KB\n"
          ],
          "name": "stdout"
        }
      ]
    },
    {
      "cell_type": "code",
      "metadata": {
        "id": "8C99FoQw_qI0",
        "colab_type": "code",
        "colab": {
          "base_uri": "https://localhost:8080/",
          "height": 238
        },
        "outputId": "c3a328a1-377c-4226-fd12-581868e691e4"
      },
      "source": [
        "#df for min prices predictions\n",
        "crops_min.drop(\"max_price\",axis=1,inplace=True)\n",
        "crops_min.info()"
      ],
      "execution_count": null,
      "outputs": [
        {
          "output_type": "stream",
          "text": [
            "<class 'pandas.core.frame.DataFrame'>\n",
            "RangeIndex: 2238 entries, 0 to 2237\n",
            "Data columns (total 6 columns):\n",
            " #   Column     Non-Null Count  Dtype\n",
            "---  ------     --------------  -----\n",
            " 0   state      2238 non-null   int8 \n",
            " 1   district   2238 non-null   int16\n",
            " 2   market     2238 non-null   int16\n",
            " 3   commodity  2238 non-null   int16\n",
            " 4   variety    2238 non-null   int16\n",
            " 5   min_price  2238 non-null   int64\n",
            "dtypes: int16(4), int64(1), int8(1)\n",
            "memory usage: 37.3 KB\n"
          ],
          "name": "stdout"
        }
      ]
    },
    {
      "cell_type": "code",
      "metadata": {
        "id": "q29uQLA-_woq",
        "colab_type": "code",
        "colab": {
          "base_uri": "https://localhost:8080/",
          "height": 204
        },
        "outputId": "45bc64bb-cb74-4e82-d622-aaeb43d6cdd2"
      },
      "source": [
        "#train a model for the min prices now?\n",
        "from sklearn.model_selection import train_test_split\n",
        "\n",
        "X = crops_min.drop(\"min_price\",axis=1)\n",
        "Y = crops_min[\"min_price\"]\n",
        "\n",
        "X_train,X_test,Y_train,Y_test = train_test_split(X,Y,test_size=0.2,random_state=1)\n",
        "X.head()"
      ],
      "execution_count": null,
      "outputs": [
        {
          "output_type": "execute_result",
          "data": {
            "text/html": [
              "<div>\n",
              "<style scoped>\n",
              "    .dataframe tbody tr th:only-of-type {\n",
              "        vertical-align: middle;\n",
              "    }\n",
              "\n",
              "    .dataframe tbody tr th {\n",
              "        vertical-align: top;\n",
              "    }\n",
              "\n",
              "    .dataframe thead th {\n",
              "        text-align: right;\n",
              "    }\n",
              "</style>\n",
              "<table border=\"1\" class=\"dataframe\">\n",
              "  <thead>\n",
              "    <tr style=\"text-align: right;\">\n",
              "      <th></th>\n",
              "      <th>state</th>\n",
              "      <th>district</th>\n",
              "      <th>market</th>\n",
              "      <th>commodity</th>\n",
              "      <th>variety</th>\n",
              "    </tr>\n",
              "  </thead>\n",
              "  <tbody>\n",
              "    <tr>\n",
              "      <th>0</th>\n",
              "      <td>0</td>\n",
              "      <td>153</td>\n",
              "      <td>246</td>\n",
              "      <td>0</td>\n",
              "      <td>17</td>\n",
              "    </tr>\n",
              "    <tr>\n",
              "      <th>1</th>\n",
              "      <td>0</td>\n",
              "      <td>153</td>\n",
              "      <td>246</td>\n",
              "      <td>10</td>\n",
              "      <td>30</td>\n",
              "    </tr>\n",
              "    <tr>\n",
              "      <th>2</th>\n",
              "      <td>0</td>\n",
              "      <td>153</td>\n",
              "      <td>246</td>\n",
              "      <td>18</td>\n",
              "      <td>39</td>\n",
              "    </tr>\n",
              "    <tr>\n",
              "      <th>3</th>\n",
              "      <td>0</td>\n",
              "      <td>153</td>\n",
              "      <td>246</td>\n",
              "      <td>19</td>\n",
              "      <td>148</td>\n",
              "    </tr>\n",
              "    <tr>\n",
              "      <th>4</th>\n",
              "      <td>0</td>\n",
              "      <td>153</td>\n",
              "      <td>246</td>\n",
              "      <td>22</td>\n",
              "      <td>148</td>\n",
              "    </tr>\n",
              "  </tbody>\n",
              "</table>\n",
              "</div>"
            ],
            "text/plain": [
              "   state  district  market  commodity  variety\n",
              "0      0       153     246          0       17\n",
              "1      0       153     246         10       30\n",
              "2      0       153     246         18       39\n",
              "3      0       153     246         19      148\n",
              "4      0       153     246         22      148"
            ]
          },
          "metadata": {
            "tags": []
          },
          "execution_count": 224
        }
      ]
    },
    {
      "cell_type": "code",
      "metadata": {
        "id": "OapVB22WBDK0",
        "colab_type": "code",
        "colab": {
          "base_uri": "https://localhost:8080/",
          "height": 34
        },
        "outputId": "64a34535-d073-4af6-c5de-79660c7773b4"
      },
      "source": [
        "len(X_train), len(X_test), len(Y_train), len(Y_test)#SEEMS GOOD?\n",
        "#CALM"
      ],
      "execution_count": null,
      "outputs": [
        {
          "output_type": "execute_result",
          "data": {
            "text/plain": [
              "(1790, 448, 1790, 448)"
            ]
          },
          "metadata": {
            "tags": []
          },
          "execution_count": 221
        }
      ]
    },
    {
      "cell_type": "code",
      "metadata": {
        "id": "HhxEx4-xBHwa",
        "colab_type": "code",
        "colab": {
          "base_uri": "https://localhost:8080/",
          "height": 136
        },
        "outputId": "09945e62-6926-42bc-d259-9666a056703c"
      },
      "source": [
        "import numpy as np\n",
        "#FOREST REGRESSOR?\n",
        "#AYT\n",
        "np.random.state = 1\n",
        "from sklearn.ensemble import RandomForestRegressor\n",
        "model = RandomForestRegressor()\n",
        "#we can tune later?\n",
        "model.fit(X_train,Y_train)"
      ],
      "execution_count": null,
      "outputs": [
        {
          "output_type": "execute_result",
          "data": {
            "text/plain": [
              "RandomForestRegressor(bootstrap=True, ccp_alpha=0.0, criterion='mse',\n",
              "                      max_depth=None, max_features='auto', max_leaf_nodes=None,\n",
              "                      max_samples=None, min_impurity_decrease=0.0,\n",
              "                      min_impurity_split=None, min_samples_leaf=1,\n",
              "                      min_samples_split=2, min_weight_fraction_leaf=0.0,\n",
              "                      n_estimators=100, n_jobs=None, oob_score=False,\n",
              "                      random_state=None, verbose=0, warm_start=False)"
            ]
          },
          "metadata": {
            "tags": []
          },
          "execution_count": 96
        }
      ]
    },
    {
      "cell_type": "code",
      "metadata": {
        "id": "zqd253xlBqZ0",
        "colab_type": "code",
        "colab": {
          "base_uri": "https://localhost:8080/",
          "height": 51
        },
        "outputId": "38d58abd-adbf-43bb-d4a3-d506df4d4dc5"
      },
      "source": [
        "np.random.state = 1\n",
        "from sklearn.model_selection import cross_val_score\n",
        "cross_val_score(model, X, Y, cv=5, scoring='neg_mean_squared_error')"
      ],
      "execution_count": null,
      "outputs": [
        {
          "output_type": "execute_result",
          "data": {
            "text/plain": [
              "array([-48699820.060773  ,  -7638877.73005746,  -4716265.90106964,\n",
              "        -1491022.85725183,  -3168015.87261397])"
            ]
          },
          "metadata": {
            "tags": []
          },
          "execution_count": 85
        }
      ]
    },
    {
      "cell_type": "code",
      "metadata": {
        "id": "PDtODYcwB-VJ",
        "colab_type": "code",
        "colab": {}
      },
      "source": [
        ""
      ],
      "execution_count": null,
      "outputs": []
    },
    {
      "cell_type": "code",
      "metadata": {
        "id": "3BeVQ-ORCb-i",
        "colab_type": "code",
        "colab": {}
      },
      "source": [
        ""
      ],
      "execution_count": null,
      "outputs": []
    },
    {
      "cell_type": "code",
      "metadata": {
        "id": "-NxFbOCvDwds",
        "colab_type": "code",
        "colab": {
          "base_uri": "https://localhost:8080/",
          "height": 129
        },
        "outputId": "53deff76-9c5d-4d16-f12f-5fbd3d8f8eb0"
      },
      "source": [
        "~~"
      ],
      "execution_count": null,
      "outputs": [
        {
          "output_type": "error",
          "ename": "SyntaxError",
          "evalue": "ignored",
          "traceback": [
            "\u001b[0;36m  File \u001b[0;32m\"<ipython-input-47-1ee2e3f7b5c7>\"\u001b[0;36m, line \u001b[0;32m1\u001b[0m\n\u001b[0;31m    ~~\u001b[0m\n\u001b[0m      ^\u001b[0m\n\u001b[0;31mSyntaxError\u001b[0m\u001b[0;31m:\u001b[0m invalid syntax\n"
          ]
        }
      ]
    },
    {
      "cell_type": "code",
      "metadata": {
        "id": "FE7a6OFTE4BS",
        "colab_type": "code",
        "colab": {
          "base_uri": "https://localhost:8080/",
          "height": 204
        },
        "outputId": "ea66032c-36a1-4913-98b7-14e160265765"
      },
      "source": [
        "X_train.head()"
      ],
      "execution_count": null,
      "outputs": [
        {
          "output_type": "execute_result",
          "data": {
            "text/html": [
              "<div>\n",
              "<style scoped>\n",
              "    .dataframe tbody tr th:only-of-type {\n",
              "        vertical-align: middle;\n",
              "    }\n",
              "\n",
              "    .dataframe tbody tr th {\n",
              "        vertical-align: top;\n",
              "    }\n",
              "\n",
              "    .dataframe thead th {\n",
              "        text-align: right;\n",
              "    }\n",
              "</style>\n",
              "<table border=\"1\" class=\"dataframe\">\n",
              "  <thead>\n",
              "    <tr style=\"text-align: right;\">\n",
              "      <th></th>\n",
              "      <th>state</th>\n",
              "      <th>district</th>\n",
              "      <th>market</th>\n",
              "      <th>commodity</th>\n",
              "      <th>variety</th>\n",
              "    </tr>\n",
              "  </thead>\n",
              "  <tbody>\n",
              "    <tr>\n",
              "      <th>982</th>\n",
              "      <td>16</td>\n",
              "      <td>56</td>\n",
              "      <td>34</td>\n",
              "      <td>24</td>\n",
              "      <td>148</td>\n",
              "    </tr>\n",
              "    <tr>\n",
              "      <th>638</th>\n",
              "      <td>10</td>\n",
              "      <td>160</td>\n",
              "      <td>157</td>\n",
              "      <td>18</td>\n",
              "      <td>148</td>\n",
              "    </tr>\n",
              "    <tr>\n",
              "      <th>2103</th>\n",
              "      <td>25</td>\n",
              "      <td>31</td>\n",
              "      <td>15</td>\n",
              "      <td>118</td>\n",
              "      <td>113</td>\n",
              "    </tr>\n",
              "    <tr>\n",
              "      <th>1468</th>\n",
              "      <td>22</td>\n",
              "      <td>143</td>\n",
              "      <td>39</td>\n",
              "      <td>31</td>\n",
              "      <td>148</td>\n",
              "    </tr>\n",
              "    <tr>\n",
              "      <th>737</th>\n",
              "      <td>12</td>\n",
              "      <td>92</td>\n",
              "      <td>160</td>\n",
              "      <td>40</td>\n",
              "      <td>148</td>\n",
              "    </tr>\n",
              "  </tbody>\n",
              "</table>\n",
              "</div>"
            ],
            "text/plain": [
              "      state  district  market  commodity  variety\n",
              "982      16        56      34         24      148\n",
              "638      10       160     157         18      148\n",
              "2103     25        31      15        118      113\n",
              "1468     22       143      39         31      148\n",
              "737      12        92     160         40      148"
            ]
          },
          "metadata": {
            "tags": []
          },
          "execution_count": 87
        }
      ]
    },
    {
      "cell_type": "code",
      "metadata": {
        "id": "vkvfJ4dwIk-4",
        "colab_type": "code",
        "colab": {
          "base_uri": "https://localhost:8080/",
          "height": 119
        },
        "outputId": "cbfe1df1-851f-44d2-8fec-b059f211540d"
      },
      "source": [
        "Y_train.head()"
      ],
      "execution_count": null,
      "outputs": [
        {
          "output_type": "execute_result",
          "data": {
            "text/plain": [
              "982     1400\n",
              "638     2300\n",
              "2103     540\n",
              "1468    2500\n",
              "737     1400\n",
              "Name: min_price, dtype: int64"
            ]
          },
          "metadata": {
            "tags": []
          },
          "execution_count": 88
        }
      ]
    },
    {
      "cell_type": "code",
      "metadata": {
        "id": "z4nxeMfcInG-",
        "colab_type": "code",
        "colab": {
          "base_uri": "https://localhost:8080/",
          "height": 80
        },
        "outputId": "81208826-d131-4a1d-8afe-953931401dc4"
      },
      "source": [
        "X_train[:1]"
      ],
      "execution_count": null,
      "outputs": [
        {
          "output_type": "execute_result",
          "data": {
            "text/html": [
              "<div>\n",
              "<style scoped>\n",
              "    .dataframe tbody tr th:only-of-type {\n",
              "        vertical-align: middle;\n",
              "    }\n",
              "\n",
              "    .dataframe tbody tr th {\n",
              "        vertical-align: top;\n",
              "    }\n",
              "\n",
              "    .dataframe thead th {\n",
              "        text-align: right;\n",
              "    }\n",
              "</style>\n",
              "<table border=\"1\" class=\"dataframe\">\n",
              "  <thead>\n",
              "    <tr style=\"text-align: right;\">\n",
              "      <th></th>\n",
              "      <th>state</th>\n",
              "      <th>district</th>\n",
              "      <th>market</th>\n",
              "      <th>commodity</th>\n",
              "      <th>variety</th>\n",
              "    </tr>\n",
              "  </thead>\n",
              "  <tbody>\n",
              "    <tr>\n",
              "      <th>982</th>\n",
              "      <td>16</td>\n",
              "      <td>56</td>\n",
              "      <td>34</td>\n",
              "      <td>24</td>\n",
              "      <td>148</td>\n",
              "    </tr>\n",
              "  </tbody>\n",
              "</table>\n",
              "</div>"
            ],
            "text/plain": [
              "     state  district  market  commodity  variety\n",
              "982     16        56      34         24      148"
            ]
          },
          "metadata": {
            "tags": []
          },
          "execution_count": 92
        }
      ]
    },
    {
      "cell_type": "code",
      "metadata": {
        "id": "rgnPXzpjJLM_",
        "colab_type": "code",
        "colab": {
          "base_uri": "https://localhost:8080/",
          "height": 34
        },
        "outputId": "33b24c88-8988-40f0-d535-9d5552782258"
      },
      "source": [
        "model.predict(X_train[:1])"
      ],
      "execution_count": null,
      "outputs": [
        {
          "output_type": "execute_result",
          "data": {
            "text/plain": [
              "array([1195.])"
            ]
          },
          "metadata": {
            "tags": []
          },
          "execution_count": 97
        }
      ]
    },
    {
      "cell_type": "code",
      "metadata": {
        "id": "yzVO1rkuJiw2",
        "colab_type": "code",
        "colab": {
          "base_uri": "https://localhost:8080/",
          "height": 137
        },
        "outputId": "cd538d2b-c941-4c75-e79b-155afdd7d5d7"
      },
      "source": [
        "from sklearn.model_selection import GridSearchCV\n",
        "np.random.state = 1\n",
        "grid_data = {\"max_depth\":[6,8,10],\n",
        "             \"n_estimators\":[5,10,15],\n",
        "             \"max_features\":[3,4,5],\n",
        "             \"min_samples_split\":[1,2,3,4]}\n",
        "\n",
        "grid_model = GridSearchCV(RandomForestRegressor(),param_grid=grid_data,scoring=\"neg_root_mean_squared_error\",cv=5,verbose=True,n_jobs=-1)\n",
        "grid_model.fit(X,Y)\n",
        "\"\"\"\n",
        "bootstrap=True, ccp_alpha=0.0, criterion='mse',\n",
        "                      max_depth=None, max_features='auto', max_leaf_nodes=None,\n",
        "                      max_samples=None, min_impurity_decrease=0.0,\n",
        "                      min_impurity_split=None, min_samples_leaf=1,\n",
        "                      min_samples_split=2, min_weight_fraction_leaf=0.0,\n",
        "                      n_estimators=100, n_jobs=None, oob_score=False,\n",
        "                      random_state=None, verbose=0, warm_start=False\n",
        "                      \"\"\""
      ],
      "execution_count": null,
      "outputs": [
        {
          "output_type": "stream",
          "text": [
            "Fitting 5 folds for each of 108 candidates, totalling 540 fits\n"
          ],
          "name": "stdout"
        },
        {
          "output_type": "stream",
          "text": [
            "[Parallel(n_jobs=-1)]: Using backend LokyBackend with 2 concurrent workers.\n",
            "[Parallel(n_jobs=-1)]: Done 128 tasks      | elapsed:    3.5s\n",
            "[Parallel(n_jobs=-1)]: Done 540 out of 540 | elapsed:   13.3s finished\n"
          ],
          "name": "stderr"
        },
        {
          "output_type": "execute_result",
          "data": {
            "application/vnd.google.colaboratory.intrinsic+json": {
              "type": "string"
            },
            "text/plain": [
              "\"\\nbootstrap=True, ccp_alpha=0.0, criterion='mse',\\n                      max_depth=None, max_features='auto', max_leaf_nodes=None,\\n                      max_samples=None, min_impurity_decrease=0.0,\\n                      min_impurity_split=None, min_samples_leaf=1,\\n                      min_samples_split=2, min_weight_fraction_leaf=0.0,\\n                      n_estimators=100, n_jobs=None, oob_score=False,\\n                      random_state=None, verbose=0, warm_start=False\\n                      \""
            ]
          },
          "metadata": {
            "tags": []
          },
          "execution_count": 171
        }
      ]
    },
    {
      "cell_type": "code",
      "metadata": {
        "id": "6L9A4oLpLRUD",
        "colab_type": "code",
        "colab": {
          "base_uri": "https://localhost:8080/",
          "height": 34
        },
        "outputId": "119303ac-7553-402c-abae-0b25735eba37"
      },
      "source": [
        "grid_model.best_params_"
      ],
      "execution_count": null,
      "outputs": [
        {
          "output_type": "execute_result",
          "data": {
            "text/plain": [
              "{'max_depth': 8, 'max_features': 5, 'min_samples_split': 3, 'n_estimators': 15}"
            ]
          },
          "metadata": {
            "tags": []
          },
          "execution_count": 172
        }
      ]
    },
    {
      "cell_type": "code",
      "metadata": {
        "id": "NRIdiussMM6-",
        "colab_type": "code",
        "colab": {
          "base_uri": "https://localhost:8080/",
          "height": 34
        },
        "outputId": "f74981be-9b46-43b2-fd59-90a97b19a66f"
      },
      "source": [
        "grid_model.predict(X_train[:1])"
      ],
      "execution_count": null,
      "outputs": [
        {
          "output_type": "execute_result",
          "data": {
            "text/plain": [
              "array([1108.68472676])"
            ]
          },
          "metadata": {
            "tags": []
          },
          "execution_count": 173
        }
      ]
    },
    {
      "cell_type": "code",
      "metadata": {
        "id": "rHceq6aOMTRt",
        "colab_type": "code",
        "colab": {
          "base_uri": "https://localhost:8080/",
          "height": 204
        },
        "outputId": "0955b9a8-6f12-43dd-ca22-a9cd9b49c5f5"
      },
      "source": [
        "X_test.head()"
      ],
      "execution_count": null,
      "outputs": [
        {
          "output_type": "execute_result",
          "data": {
            "text/html": [
              "<div>\n",
              "<style scoped>\n",
              "    .dataframe tbody tr th:only-of-type {\n",
              "        vertical-align: middle;\n",
              "    }\n",
              "\n",
              "    .dataframe tbody tr th {\n",
              "        vertical-align: top;\n",
              "    }\n",
              "\n",
              "    .dataframe thead th {\n",
              "        text-align: right;\n",
              "    }\n",
              "</style>\n",
              "<table border=\"1\" class=\"dataframe\">\n",
              "  <thead>\n",
              "    <tr style=\"text-align: right;\">\n",
              "      <th></th>\n",
              "      <th>state</th>\n",
              "      <th>district</th>\n",
              "      <th>market</th>\n",
              "      <th>commodity</th>\n",
              "      <th>variety</th>\n",
              "    </tr>\n",
              "  </thead>\n",
              "  <tbody>\n",
              "    <tr>\n",
              "      <th>1595</th>\n",
              "      <td>23</td>\n",
              "      <td>0</td>\n",
              "      <td>269</td>\n",
              "      <td>66</td>\n",
              "      <td>123</td>\n",
              "    </tr>\n",
              "    <tr>\n",
              "      <th>1447</th>\n",
              "      <td>20</td>\n",
              "      <td>172</td>\n",
              "      <td>274</td>\n",
              "      <td>105</td>\n",
              "      <td>148</td>\n",
              "    </tr>\n",
              "    <tr>\n",
              "      <th>1138</th>\n",
              "      <td>18</td>\n",
              "      <td>106</td>\n",
              "      <td>187</td>\n",
              "      <td>9</td>\n",
              "      <td>31</td>\n",
              "    </tr>\n",
              "    <tr>\n",
              "      <th>535</th>\n",
              "      <td>10</td>\n",
              "      <td>95</td>\n",
              "      <td>90</td>\n",
              "      <td>24</td>\n",
              "      <td>148</td>\n",
              "    </tr>\n",
              "    <tr>\n",
              "      <th>1578</th>\n",
              "      <td>23</td>\n",
              "      <td>0</td>\n",
              "      <td>150</td>\n",
              "      <td>97</td>\n",
              "      <td>137</td>\n",
              "    </tr>\n",
              "  </tbody>\n",
              "</table>\n",
              "</div>"
            ],
            "text/plain": [
              "      state  district  market  commodity  variety\n",
              "1595     23         0     269         66      123\n",
              "1447     20       172     274        105      148\n",
              "1138     18       106     187          9       31\n",
              "535      10        95      90         24      148\n",
              "1578     23         0     150         97      137"
            ]
          },
          "metadata": {
            "tags": []
          },
          "execution_count": 116
        }
      ]
    },
    {
      "cell_type": "code",
      "metadata": {
        "id": "2fDTwtpgNXje",
        "colab_type": "code",
        "colab": {
          "base_uri": "https://localhost:8080/",
          "height": 119
        },
        "outputId": "8677d9d8-49c1-4452-f668-daaaa36b17f0"
      },
      "source": [
        "Y_test.head()"
      ],
      "execution_count": null,
      "outputs": [
        {
          "output_type": "execute_result",
          "data": {
            "text/plain": [
              "1595    4900\n",
              "1447    1750\n",
              "1138    1300\n",
              "535     2200\n",
              "1578    2600\n",
              "Name: min_price, dtype: int64"
            ]
          },
          "metadata": {
            "tags": []
          },
          "execution_count": 117
        }
      ]
    },
    {
      "cell_type": "code",
      "metadata": {
        "id": "GPJmMzQgNYvk",
        "colab_type": "code",
        "colab": {
          "base_uri": "https://localhost:8080/",
          "height": 51
        },
        "outputId": "c6abb718-a897-4301-bfbd-058a3ae84450"
      },
      "source": [
        "grid_model.predict(X_test[:5])"
      ],
      "execution_count": null,
      "outputs": [
        {
          "output_type": "execute_result",
          "data": {
            "text/plain": [
              "array([3144.15432706, 1581.75908869, 1801.10347809, 2218.2011739 ,\n",
              "       2798.41112352])"
            ]
          },
          "metadata": {
            "tags": []
          },
          "execution_count": 174
        }
      ]
    },
    {
      "cell_type": "code",
      "metadata": {
        "id": "0MGlrlLENb0d",
        "colab_type": "code",
        "colab": {
          "base_uri": "https://localhost:8080/",
          "height": 136
        },
        "outputId": "4769afcb-509a-4b3f-ccea-8fb343edd3b1"
      },
      "source": [
        "min_model = RandomForestRegressor(max_depth=8, max_features= 5, min_samples_split= 3, n_estimators=15)\n",
        "min_model.fit(X,Y)"
      ],
      "execution_count": null,
      "outputs": [
        {
          "output_type": "execute_result",
          "data": {
            "text/plain": [
              "RandomForestRegressor(bootstrap=True, ccp_alpha=0.0, criterion='mse',\n",
              "                      max_depth=8, max_features=5, max_leaf_nodes=None,\n",
              "                      max_samples=None, min_impurity_decrease=0.0,\n",
              "                      min_impurity_split=None, min_samples_leaf=1,\n",
              "                      min_samples_split=3, min_weight_fraction_leaf=0.0,\n",
              "                      n_estimators=15, n_jobs=None, oob_score=False,\n",
              "                      random_state=None, verbose=0, warm_start=False)"
            ]
          },
          "metadata": {
            "tags": []
          },
          "execution_count": 225
        }
      ]
    },
    {
      "cell_type": "code",
      "metadata": {
        "id": "FMhVL3AaO8-d",
        "colab_type": "code",
        "colab": {
          "base_uri": "https://localhost:8080/",
          "height": 34
        },
        "outputId": "65e52b43-f98a-4bf8-c655-597003db3bdf"
      },
      "source": [
        "import joblib\n",
        "filename=\"min_price_model.sav\"\n",
        "joblib.dump(min_model,filename)"
      ],
      "execution_count": null,
      "outputs": [
        {
          "output_type": "execute_result",
          "data": {
            "text/plain": [
              "['min_price_model.sav']"
            ]
          },
          "metadata": {
            "tags": []
          },
          "execution_count": 228
        }
      ]
    },
    {
      "cell_type": "code",
      "metadata": {
        "id": "KabEp0-jaHDr",
        "colab_type": "code",
        "colab": {}
      },
      "source": [
        ""
      ],
      "execution_count": null,
      "outputs": []
    },
    {
      "cell_type": "code",
      "metadata": {
        "id": "NuA2-Z1UPdL8",
        "colab_type": "code",
        "colab": {
          "base_uri": "https://localhost:8080/",
          "height": 255
        },
        "outputId": "f419fbaf-6cca-4ae7-a4ce-7940dd1cba0f"
      },
      "source": [
        "#create max price model\n",
        "\n",
        "\n",
        "\n",
        "\n",
        "\n",
        "\n",
        "\n",
        "\n",
        "\n",
        "\n",
        "\n",
        "\n",
        "\n",
        "\n",
        "\n",
        "\n",
        "\n",
        "\n",
        "\n",
        "\n",
        "\n",
        "\n",
        "\n",
        "\n",
        "\n",
        "\n",
        "\n",
        "\n",
        "\n",
        "\n",
        "\n",
        "\n",
        "\n",
        "\n",
        "\n",
        "#calculate max price\n",
        "crops_max = crops.drop(\"min_price\",axis=1)\n",
        "crops_max = crops.drop(\"modal_price\",axis=1)\n",
        "crops_max.info()"
      ],
      "execution_count": null,
      "outputs": [
        {
          "output_type": "stream",
          "text": [
            "<class 'pandas.core.frame.DataFrame'>\n",
            "RangeIndex: 2238 entries, 0 to 2237\n",
            "Data columns (total 7 columns):\n",
            " #   Column     Non-Null Count  Dtype\n",
            "---  ------     --------------  -----\n",
            " 0   state      2238 non-null   int8 \n",
            " 1   district   2238 non-null   int16\n",
            " 2   market     2238 non-null   int16\n",
            " 3   commodity  2238 non-null   int16\n",
            " 4   variety    2238 non-null   int16\n",
            " 5   min_price  2238 non-null   int64\n",
            " 6   max_price  2238 non-null   int64\n",
            "dtypes: int16(4), int64(2), int8(1)\n",
            "memory usage: 54.8 KB\n"
          ],
          "name": "stdout"
        }
      ]
    },
    {
      "cell_type": "code",
      "metadata": {
        "id": "ci2UjGTNQpzF",
        "colab_type": "code",
        "colab": {
          "base_uri": "https://localhost:8080/",
          "height": 238
        },
        "outputId": "b9e21bf4-5282-487c-978d-6243bc8cd3b4"
      },
      "source": [
        "crops_max.info()"
      ],
      "execution_count": null,
      "outputs": [
        {
          "output_type": "stream",
          "text": [
            "<class 'pandas.core.frame.DataFrame'>\n",
            "RangeIndex: 2238 entries, 0 to 2237\n",
            "Data columns (total 6 columns):\n",
            " #   Column     Non-Null Count  Dtype\n",
            "---  ------     --------------  -----\n",
            " 0   state      2238 non-null   int8 \n",
            " 1   district   2238 non-null   int16\n",
            " 2   market     2238 non-null   int16\n",
            " 3   commodity  2238 non-null   int16\n",
            " 4   variety    2238 non-null   int16\n",
            " 5   max_price  2238 non-null   int64\n",
            "dtypes: int16(4), int64(1), int8(1)\n",
            "memory usage: 37.3 KB\n"
          ],
          "name": "stdout"
        }
      ]
    },
    {
      "cell_type": "code",
      "metadata": {
        "id": "FoCgFHUQQ2h6",
        "colab_type": "code",
        "colab": {
          "base_uri": "https://localhost:8080/",
          "height": 136
        },
        "outputId": "85a4171a-73aa-4ccf-a38f-21af0076df10"
      },
      "source": [
        "np.random.state = 1\n",
        "model_max = RandomForestRegressor()\n",
        "X = crops_max.drop(\"max_price\",axis=1)\n",
        "Y = crops_max[\"max_price\"]\n",
        "\n",
        "model_max.fit(X,Y)"
      ],
      "execution_count": null,
      "outputs": [
        {
          "output_type": "execute_result",
          "data": {
            "text/plain": [
              "RandomForestRegressor(bootstrap=True, ccp_alpha=0.0, criterion='mse',\n",
              "                      max_depth=None, max_features='auto', max_leaf_nodes=None,\n",
              "                      max_samples=None, min_impurity_decrease=0.0,\n",
              "                      min_impurity_split=None, min_samples_leaf=1,\n",
              "                      min_samples_split=2, min_weight_fraction_leaf=0.0,\n",
              "                      n_estimators=100, n_jobs=None, oob_score=False,\n",
              "                      random_state=None, verbose=0, warm_start=False)"
            ]
          },
          "metadata": {
            "tags": []
          },
          "execution_count": 238
        }
      ]
    },
    {
      "cell_type": "code",
      "metadata": {
        "id": "MDUmezLrROS7",
        "colab_type": "code",
        "colab": {
          "base_uri": "https://localhost:8080/",
          "height": 204
        },
        "outputId": "53dabf97-abc8-4dfe-ef6b-153dd1b239d6"
      },
      "source": [
        "crops_max.head()"
      ],
      "execution_count": null,
      "outputs": [
        {
          "output_type": "execute_result",
          "data": {
            "text/html": [
              "<div>\n",
              "<style scoped>\n",
              "    .dataframe tbody tr th:only-of-type {\n",
              "        vertical-align: middle;\n",
              "    }\n",
              "\n",
              "    .dataframe tbody tr th {\n",
              "        vertical-align: top;\n",
              "    }\n",
              "\n",
              "    .dataframe thead th {\n",
              "        text-align: right;\n",
              "    }\n",
              "</style>\n",
              "<table border=\"1\" class=\"dataframe\">\n",
              "  <thead>\n",
              "    <tr style=\"text-align: right;\">\n",
              "      <th></th>\n",
              "      <th>state</th>\n",
              "      <th>district</th>\n",
              "      <th>market</th>\n",
              "      <th>commodity</th>\n",
              "      <th>variety</th>\n",
              "      <th>max_price</th>\n",
              "    </tr>\n",
              "  </thead>\n",
              "  <tbody>\n",
              "    <tr>\n",
              "      <th>0</th>\n",
              "      <td>0</td>\n",
              "      <td>153</td>\n",
              "      <td>246</td>\n",
              "      <td>0</td>\n",
              "      <td>17</td>\n",
              "      <td>8000</td>\n",
              "    </tr>\n",
              "    <tr>\n",
              "      <th>1</th>\n",
              "      <td>0</td>\n",
              "      <td>153</td>\n",
              "      <td>246</td>\n",
              "      <td>10</td>\n",
              "      <td>30</td>\n",
              "      <td>5500</td>\n",
              "    </tr>\n",
              "    <tr>\n",
              "      <th>2</th>\n",
              "      <td>0</td>\n",
              "      <td>153</td>\n",
              "      <td>246</td>\n",
              "      <td>18</td>\n",
              "      <td>39</td>\n",
              "      <td>8000</td>\n",
              "    </tr>\n",
              "    <tr>\n",
              "      <th>3</th>\n",
              "      <td>0</td>\n",
              "      <td>153</td>\n",
              "      <td>246</td>\n",
              "      <td>19</td>\n",
              "      <td>148</td>\n",
              "      <td>8000</td>\n",
              "    </tr>\n",
              "    <tr>\n",
              "      <th>4</th>\n",
              "      <td>0</td>\n",
              "      <td>153</td>\n",
              "      <td>246</td>\n",
              "      <td>22</td>\n",
              "      <td>148</td>\n",
              "      <td>130000</td>\n",
              "    </tr>\n",
              "  </tbody>\n",
              "</table>\n",
              "</div>"
            ],
            "text/plain": [
              "   state  district  market  commodity  variety  max_price\n",
              "0      0       153     246          0       17       8000\n",
              "1      0       153     246         10       30       5500\n",
              "2      0       153     246         18       39       8000\n",
              "3      0       153     246         19      148       8000\n",
              "4      0       153     246         22      148     130000"
            ]
          },
          "metadata": {
            "tags": []
          },
          "execution_count": 234
        }
      ]
    },
    {
      "cell_type": "code",
      "metadata": {
        "id": "pq39haQTRrmr",
        "colab_type": "code",
        "colab": {
          "base_uri": "https://localhost:8080/",
          "height": 34
        },
        "outputId": "b536fbdc-7637-4dcf-8723-1ba55410e0b3"
      },
      "source": [
        "model_max.predict(crops_max[:5].drop(\"max_price\",axis=1))"
      ],
      "execution_count": null,
      "outputs": [
        {
          "output_type": "execute_result",
          "data": {
            "text/plain": [
              "array([ 9764.  ,  8324.86,  9861.05, 25732.35, 92490.  ])"
            ]
          },
          "metadata": {
            "tags": []
          },
          "execution_count": 235
        }
      ]
    },
    {
      "cell_type": "code",
      "metadata": {
        "id": "8HU54boBWtou",
        "colab_type": "code",
        "colab": {}
      },
      "source": [
        ""
      ],
      "execution_count": null,
      "outputs": []
    },
    {
      "cell_type": "code",
      "metadata": {
        "id": "XzMZWPmBRwQq",
        "colab_type": "code",
        "colab": {
          "base_uri": "https://localhost:8080/",
          "height": 442
        },
        "outputId": "080934e7-b484-455a-ca0e-34fc84848fe0"
      },
      "source": [
        "from sklearn.model_selection import GridSearchCV\n",
        "grid_max = {\"max_depth\":[4,5,6],\n",
        "            \"max_features\":[3,4,5],\n",
        "            \"max_samples\":[2,4,6,8,10],\n",
        "            \"n_estimators\":[20,40,60,80,100]}\n",
        "grid_max_model = GridSearchCV(RandomForestRegressor(),param_grid=grid_max,scoring=\"neg_root_mean_squared_error\",cv=5,verbose=True,n_jobs=-1)\n",
        "grid_max_model.fit(X,Y)"
      ],
      "execution_count": null,
      "outputs": [
        {
          "output_type": "stream",
          "text": [
            "Fitting 5 folds for each of 225 candidates, totalling 1125 fits\n"
          ],
          "name": "stdout"
        },
        {
          "output_type": "stream",
          "text": [
            "[Parallel(n_jobs=-1)]: Using backend LokyBackend with 2 concurrent workers.\n",
            "[Parallel(n_jobs=-1)]: Done 164 tasks      | elapsed:   10.4s\n",
            "[Parallel(n_jobs=-1)]: Done 764 tasks      | elapsed:   49.2s\n",
            "[Parallel(n_jobs=-1)]: Done 1125 out of 1125 | elapsed:  1.2min finished\n"
          ],
          "name": "stderr"
        },
        {
          "output_type": "execute_result",
          "data": {
            "text/plain": [
              "GridSearchCV(cv=5, error_score=nan,\n",
              "             estimator=RandomForestRegressor(bootstrap=True, ccp_alpha=0.0,\n",
              "                                             criterion='mse', max_depth=None,\n",
              "                                             max_features='auto',\n",
              "                                             max_leaf_nodes=None,\n",
              "                                             max_samples=None,\n",
              "                                             min_impurity_decrease=0.0,\n",
              "                                             min_impurity_split=None,\n",
              "                                             min_samples_leaf=1,\n",
              "                                             min_samples_split=2,\n",
              "                                             min_weight_fraction_leaf=0.0,\n",
              "                                             n_estimators=100, n_jobs=None,\n",
              "                                             oob_score=False, random_state=None,\n",
              "                                             verbose=0, warm_start=False),\n",
              "             iid='deprecated', n_jobs=-1,\n",
              "             param_grid={'max_depth': [4, 5, 6], 'max_features': [3, 4, 5],\n",
              "                         'max_samples': [2, 4, 6, 8, 10],\n",
              "                         'n_estimators': [20, 40, 60, 80, 100]},\n",
              "             pre_dispatch='2*n_jobs', refit=True, return_train_score=False,\n",
              "             scoring='neg_root_mean_squared_error', verbose=True)"
            ]
          },
          "metadata": {
            "tags": []
          },
          "execution_count": 210
        }
      ]
    },
    {
      "cell_type": "code",
      "metadata": {
        "id": "pOx5lmYYVRHf",
        "colab_type": "code",
        "colab": {
          "base_uri": "https://localhost:8080/",
          "height": 34
        },
        "outputId": "3c6cc0b7-b7fb-4beb-b2eb-05ccf42b7099"
      },
      "source": [
        "len(X)"
      ],
      "execution_count": null,
      "outputs": [
        {
          "output_type": "execute_result",
          "data": {
            "text/plain": [
              "2238"
            ]
          },
          "metadata": {
            "tags": []
          },
          "execution_count": 216
        }
      ]
    },
    {
      "cell_type": "code",
      "metadata": {
        "id": "aXr02RJ5VX4g",
        "colab_type": "code",
        "colab": {
          "base_uri": "https://localhost:8080/",
          "height": 119
        },
        "outputId": "4b7ac2ea-a534-4ebe-8c0a-6b360dd78a39"
      },
      "source": [
        "Y.tail()"
      ],
      "execution_count": null,
      "outputs": [
        {
          "output_type": "execute_result",
          "data": {
            "text/plain": [
              "2233     570\n",
              "2234    3650\n",
              "2235    4600\n",
              "2236    3550\n",
              "2237    2125\n",
              "Name: max_price, dtype: int64"
            ]
          },
          "metadata": {
            "tags": []
          },
          "execution_count": 236
        }
      ]
    },
    {
      "cell_type": "code",
      "metadata": {
        "id": "YpuYGa67VafA",
        "colab_type": "code",
        "colab": {
          "base_uri": "https://localhost:8080/",
          "height": 34
        },
        "outputId": "87d5a91e-e930-4f78-b19c-2b66e483a0a1"
      },
      "source": [
        "grid_max_model.predict(X[2233:])"
      ],
      "execution_count": null,
      "outputs": [
        {
          "output_type": "execute_result",
          "data": {
            "text/plain": [
              "array([2287.35 , 2264.225, 3057.525, 2759.5  , 2980.25 ])"
            ]
          },
          "metadata": {
            "tags": []
          },
          "execution_count": 237
        }
      ]
    },
    {
      "cell_type": "code",
      "metadata": {
        "id": "OjMpCUgDVd0Y",
        "colab_type": "code",
        "colab": {
          "base_uri": "https://localhost:8080/",
          "height": 34
        },
        "outputId": "f94f2ea0-5c6b-427d-fecb-3c03b62df5d1"
      },
      "source": [
        "model_max.predict(crops_max[2233:].drop(\"max_price\",axis=1))"
      ],
      "execution_count": null,
      "outputs": [
        {
          "output_type": "execute_result",
          "data": {
            "text/plain": [
              "array([ 652.49, 3476.99, 4506.63, 3446.9 , 1975.99])"
            ]
          },
          "metadata": {
            "tags": []
          },
          "execution_count": 240
        }
      ]
    },
    {
      "cell_type": "code",
      "metadata": {
        "id": "iU3NmJJaVjHh",
        "colab_type": "code",
        "colab": {
          "base_uri": "https://localhost:8080/",
          "height": 34
        },
        "outputId": "f593796e-bddc-42bb-a4b8-8cc8930bb2a3"
      },
      "source": [
        "import joblib\n",
        "filename = 'max_price_model.sav'\n",
        "joblib.dump(model_max, filename)"
      ],
      "execution_count": null,
      "outputs": [
        {
          "output_type": "execute_result",
          "data": {
            "text/plain": [
              "['max_price_model.sav']"
            ]
          },
          "metadata": {
            "tags": []
          },
          "execution_count": 241
        }
      ]
    },
    {
      "cell_type": "code",
      "metadata": {
        "id": "UyObJm8DZFAF",
        "colab_type": "code",
        "colab": {
          "base_uri": "https://localhost:8080/",
          "height": 204
        },
        "outputId": "30f5ccf4-082e-424e-b20e-9fb7d8ea2767"
      },
      "source": [
        "crops.head()"
      ],
      "execution_count": null,
      "outputs": [
        {
          "output_type": "execute_result",
          "data": {
            "text/html": [
              "<div>\n",
              "<style scoped>\n",
              "    .dataframe tbody tr th:only-of-type {\n",
              "        vertical-align: middle;\n",
              "    }\n",
              "\n",
              "    .dataframe tbody tr th {\n",
              "        vertical-align: top;\n",
              "    }\n",
              "\n",
              "    .dataframe thead th {\n",
              "        text-align: right;\n",
              "    }\n",
              "</style>\n",
              "<table border=\"1\" class=\"dataframe\">\n",
              "  <thead>\n",
              "    <tr style=\"text-align: right;\">\n",
              "      <th></th>\n",
              "      <th>state</th>\n",
              "      <th>district</th>\n",
              "      <th>market</th>\n",
              "      <th>commodity</th>\n",
              "      <th>variety</th>\n",
              "      <th>arrival_date</th>\n",
              "      <th>min_price</th>\n",
              "      <th>max_price</th>\n",
              "      <th>modal_price</th>\n",
              "    </tr>\n",
              "  </thead>\n",
              "  <tbody>\n",
              "    <tr>\n",
              "      <th>0</th>\n",
              "      <td>Andaman and Nicobar</td>\n",
              "      <td>South Andaman</td>\n",
              "      <td>Port Blair</td>\n",
              "      <td>Amaranthus</td>\n",
              "      <td>Amaranthus</td>\n",
              "      <td>04/03/2019</td>\n",
              "      <td>6000</td>\n",
              "      <td>8000</td>\n",
              "      <td>7000</td>\n",
              "    </tr>\n",
              "    <tr>\n",
              "      <th>1</th>\n",
              "      <td>Andaman and Nicobar</td>\n",
              "      <td>South Andaman</td>\n",
              "      <td>Port Blair</td>\n",
              "      <td>Banana - Green</td>\n",
              "      <td>Banana - Green</td>\n",
              "      <td>04/03/2019</td>\n",
              "      <td>4500</td>\n",
              "      <td>5500</td>\n",
              "      <td>5000</td>\n",
              "    </tr>\n",
              "    <tr>\n",
              "      <th>2</th>\n",
              "      <td>Andaman and Nicobar</td>\n",
              "      <td>South Andaman</td>\n",
              "      <td>Port Blair</td>\n",
              "      <td>Bhindi(Ladies Finger)</td>\n",
              "      <td>Bhindi</td>\n",
              "      <td>04/03/2019</td>\n",
              "      <td>6000</td>\n",
              "      <td>8000</td>\n",
              "      <td>7000</td>\n",
              "    </tr>\n",
              "    <tr>\n",
              "      <th>3</th>\n",
              "      <td>Andaman and Nicobar</td>\n",
              "      <td>South Andaman</td>\n",
              "      <td>Port Blair</td>\n",
              "      <td>Bitter gourd</td>\n",
              "      <td>Other</td>\n",
              "      <td>04/03/2019</td>\n",
              "      <td>6000</td>\n",
              "      <td>8000</td>\n",
              "      <td>7000</td>\n",
              "    </tr>\n",
              "    <tr>\n",
              "      <th>4</th>\n",
              "      <td>Andaman and Nicobar</td>\n",
              "      <td>South Andaman</td>\n",
              "      <td>Port Blair</td>\n",
              "      <td>Black pepper</td>\n",
              "      <td>Other</td>\n",
              "      <td>04/03/2019</td>\n",
              "      <td>110000</td>\n",
              "      <td>130000</td>\n",
              "      <td>120000</td>\n",
              "    </tr>\n",
              "  </tbody>\n",
              "</table>\n",
              "</div>"
            ],
            "text/plain": [
              "                 state       district  ... max_price modal_price\n",
              "0  Andaman and Nicobar  South Andaman  ...      8000        7000\n",
              "1  Andaman and Nicobar  South Andaman  ...      5500        5000\n",
              "2  Andaman and Nicobar  South Andaman  ...      8000        7000\n",
              "3  Andaman and Nicobar  South Andaman  ...      8000        7000\n",
              "4  Andaman and Nicobar  South Andaman  ...    130000      120000\n",
              "\n",
              "[5 rows x 9 columns]"
            ]
          },
          "metadata": {
            "tags": []
          },
          "execution_count": 244
        }
      ]
    },
    {
      "cell_type": "code",
      "metadata": {
        "id": "h6LyTRJa0kJl",
        "colab_type": "code",
        "colab": {}
      },
      "source": [
        "state = set()\n",
        "for label in crops.values:\n",
        "  state.add(label[4])"
      ],
      "execution_count": null,
      "outputs": []
    },
    {
      "cell_type": "code",
      "metadata": {
        "id": "ZCwgWmNd0qwJ",
        "colab_type": "code",
        "colab": {
          "base_uri": "https://localhost:8080/",
          "height": 54
        },
        "outputId": "88b02d8e-0fcf-4f7c-e541-4d870c9ed5f4"
      },
      "source": [
        "print(state)"
      ],
      "execution_count": null,
      "outputs": [
        {
          "output_type": "stream",
          "text": [
            "{'GCH', 'Elephant Yam (Suran)', 'Coarse', 'Drumstick', 'Cluster Beans', 'Suvarnagadde', '1001', 'Arkasheela Mattigulla', 'Beelary-Red', 'Dry', 'Methi', 'Whole', 'Banana - Green', 'Raddish', 'Common', 'Knool Khol', 'ADT 43', 'Beedi', 'Green Peas', 'Green Gram Dal', 'Bitter Gourd', 'Orange', 'Cucumbar', 'MCU 5', 'Hybrid/Local', 'Paddy Coarse', 'Cabbage', 'Chilly Capsicum', 'Bulb', 'White Pumpkin', 'Peas(Dry)', 'Squash(Chappal Kadoo)', 'Mustard', '95/5', 'Pommani', 'Kala Masoor New', 'Plum', 'Black Gram (Whole)', 'Papaya', 'Robusta', 'Lemon', 'Nagpuri', 'Raw', 'Deshi', 'Ponni', 'Annabesahai', 'Beete (Rose)', 'Broken Rice', 'Laha(Sarsib)', '2nd Sort', 'Chini', 'Masoor Gola', 'Supari', 'Badshah', 'Ratnachudi (718 5-749)', 'Masuri', 'Colacasia', 'Ghee', 'Potato', 'III', 'Ratna', 'Tinda', 'New Variety', 'Spinach', 'Disara', 'Yellow', 'Green Chilly', 'Round/Long', 'Beans (Whole)', 'Kalyan', 'Carrot', 'Round', 'Pigeon Pea (Arhar Fali)', 'Local', 'Local(Raw)', 'Finger', 'Nasik', 'Black', 'Sponge gourd', 'Hybrid', 'DCH-32  (Ginned)', 'Simla', 'Jyoti', 'Gwar', 'Capsicum', 'other', 'B P T', 'Onion', 'Sabnam', 'Other', 'Green', 'Ashgourd', 'Tapioca', 'Moath Dal', 'Sesame', 'Maida Atta', 'Beetroot', 'Desi (Whole)', 'Desi', 'H.Y.V.', 'Arhar Dal(Tur)', 'Bengal Gram Dal', '999', 'MTU-1010', 'Poovan', 'Banana - Ripe', '1121', 'Champa', 'Bhindi', 'Medium', 'NO 2', 'Surat Beans (Papadi)', 'Sanna Bhatta', 'American', 'Onion Green', 'Pomogranate', 'Paddy', 'DMV-7', 'Indian Beans (Seam)', 'Sweet Potato', 'Nendra Bale', 'A. Ponni', 'White', 'ADT 39', 'Lokwan', 'Chips', 'Peas cod', 'Green Avare (W)', 'api', 'Fine', 'Garlic', 'G. R. 11', 'Black Gram Dal', 'Annigeri', 'Amaranthus', 'Kasmir/Shimla - II', 'Rahu(Local)', 'Red Banana', 'Seemebadanekai', 'Ankola', 'Water Melon', 'Chapathi', 'French Beans (Frasbean)', 'Masur Dal', 'Deshi White', 'Sarson(Black)', 'Cowpea (Veg)', 'Snakeguard', 'African Sarson', 'Mustard Oil', 'Swarna Masuri (New)', 'Pumpkin', '147 Average', 'TD-5', 'TKM 9', 'Ridgeguard(Tori)', 'RCH-2', 'Sweet Pumpkin', 'Pine Apple', '1009 Kar', 'Hybrid Yellow (Cattle Feed)', 'ADT 37', 'Jowar ( White)', 'Bold Kernel', 'Yellow (Black)', 'Delicious', 'Sapota', 'Dara', 'Big 100 Kg', 'Mango - Raw-Ripe', 'Wheat Atta', 'Ball', 'Pathari', 'Hosur Red', 'Sona Mahsuri', 'Cotton (Unginned)', 'Amphophalus', 'Big', 'Coconut', 'Sonalika', 'Khandsari', 'Lohi Black', 'Shanker 6 (B) 30mm FIne', 'Ber(Zizyphus)', 'Hapus(Alphaso)', 'Apple', 'Leafy Vegetables', 'Turmeric (raw)', 'Kinnow', 'White Ponni', '1st Sort', 'Mousambi', 'Copra', 'Field Pea', 'Hybrid Red (Cattle Feed)', 'Palayamthodan', 'Tomato', '(Red Nanital)', 'Jalander', 'Castor seed', 'Super Fine', 'ADT 36', 'Green Gram Dhall-I', 'Super Ponni', 'F.A.Q.', 'Brinjal', 'Bottle Gourd', 'Papaya (Raw)', 'Green Ginger', 'Cauliflower', 'Green (Whole)', 'Guava', '777 New Ind', 'Red', 'Rasakathai', ' Subabul', 'Peas Wet', 'Coriander'}\n"
          ],
          "name": "stdout"
        }
      ]
    },
    {
      "cell_type": "code",
      "metadata": {
        "id": "AVW0-YyM1C2D",
        "colab_type": "code",
        "colab": {}
      },
      "source": [
        ""
      ],
      "execution_count": null,
      "outputs": []
    }
  ]
}